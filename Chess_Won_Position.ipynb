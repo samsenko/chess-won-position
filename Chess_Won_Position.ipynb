{
 "cells": [
  {
   "cell_type": "code",
   "execution_count": 124,
   "metadata": {},
   "outputs": [],
   "source": [
    "import re\n",
    "import itertools\n",
    "import pandas\n",
    "import numpy as np\n",
    "from sklearn.ensemble import RandomForestClassifier, ExtraTreesClassifier, GradientBoostingClassifier\n",
    "from sklearn.svm import SVC\n",
    "from sklearn.preprocessing import LabelEncoder, OneHotEncoder, OrdinalEncoder\n",
    "from sklearn.model_selection import train_test_split\n",
    "from imblearn.over_sampling import RandomOverSampler, SMOTE, ADASYN\n",
    "from sklearn.metrics import confusion_matrix\n",
    "from sklearn.model_selection import cross_val_score, StratifiedKFold\n",
    "import matplotlib.pyplot as plt\n",
    "from scipy.stats import ttest_rel\n",
    "import xgboost\n",
    "from xgboost import XGBClassifier"
   ]
  },
  {
   "cell_type": "markdown",
   "metadata": {},
   "source": [
    "***Read In Data***"
   ]
  },
  {
   "cell_type": "code",
   "execution_count": 2,
   "metadata": {},
   "outputs": [],
   "source": [
    "file1 = open('chess_fens3.txt')\n",
    "data = file1.readlines()\n",
    "file2 = open('chess_results2.txt')\n",
    "targets = file2.readlines()"
   ]
  },
  {
   "cell_type": "code",
   "execution_count": 3,
   "metadata": {},
   "outputs": [
    {
     "name": "stdout",
     "output_type": "stream",
     "text": [
      "22070 20500\n"
     ]
    }
   ],
   "source": [
    "print(len(data), len(targets))"
   ]
  },
  {
   "cell_type": "markdown",
   "metadata": {},
   "source": [
    "***Feature Engineering***"
   ]
  },
  {
   "cell_type": "code",
   "execution_count": 4,
   "metadata": {},
   "outputs": [],
   "source": [
    "engineered_data = []\n",
    "\n",
    "for line in data:\n",
    "    line_features = []\n",
    "    position = line[:line.index(' ')]\n",
    "    \n",
    "    #Split the position into individual squares\n",
    "    rows = position.split('/')\n",
    "    expanded_position = []\n",
    "    for row in rows:\n",
    "        expanded_row = ''\n",
    "        for char in row:\n",
    "            if char.isdigit():\n",
    "                for i in range(int(char)):\n",
    "                    expanded_row += ' '\n",
    "            else:\n",
    "                expanded_row += char\n",
    "        expanded_row = [char for char in expanded_row]\n",
    "        expanded_position += expanded_row\n",
    "    line_features += expanded_position \n",
    "    \n",
    "    #Count number of each type of piece\n",
    "    qs = position.count('q')\n",
    "    Qs = position.count('Q')\n",
    "    rs = position.count('r')\n",
    "    Rs = position.count('R')\n",
    "    pieces = position.count('b')+position.count('n')\n",
    "    Pieces = position.count('B')+position.count('N')\n",
    "    pawns = position.count('p')\n",
    "    Pawns = position.count('P')\n",
    "    developed_pawns = expanded_position[48:].count('p')\n",
    "    Developed_Pawns = expanded_position[:16].count('P')\n",
    "    \n",
    "    line_features.append(qs)\n",
    "    line_features.append(Qs)\n",
    "    line_features.append(rs)\n",
    "    line_features.append(Rs)\n",
    "    line_features.append(pieces)\n",
    "    line_features.append(Pieces)\n",
    "    line_features.append(pawns)\n",
    "    line_features.append(Pawns)\n",
    "    line_features.append(9*(Qs-qs)+5*(Rs-rs)+3*(Pieces-pieces)+(Pawns-pawns)) #material advantage\n",
    "    line_features.append(developed_pawns)\n",
    "    line_features.append(Developed_Pawns)\n",
    "    line_features.append(qs+Qs+rs+Rs+pieces+Pieces+pawns+Pawns)\n",
    "    \n",
    "    engineered_data.append(line_features)\n",
    "\n",
    "engineered_data = np.array([np.array(x) for x in engineered_data])"
   ]
  },
  {
   "cell_type": "code",
   "execution_count": 5,
   "metadata": {},
   "outputs": [
    {
     "data": {
      "text/plain": [
       "(22070, 76)"
      ]
     },
     "execution_count": 5,
     "metadata": {},
     "output_type": "execute_result"
    }
   ],
   "source": [
    "engineered_data.shape"
   ]
  },
  {
   "cell_type": "markdown",
   "metadata": {},
   "source": [
    "***Process Categorical Data***"
   ]
  },
  {
   "cell_type": "code",
   "execution_count": 6,
   "metadata": {},
   "outputs": [],
   "source": [
    "les = []\n",
    "le = LabelEncoder()\n",
    "le.fit(engineered_data.T[0])\n",
    "processed_data = le.transform(engineered_data.T[0])\n",
    "les.append(le)\n",
    "\n",
    "for col in engineered_data.T[1:64]:\n",
    "    le = LabelEncoder()\n",
    "    le.fit(col)\n",
    "    processed_col = le.transform(col)\n",
    "    processed_data = np.vstack((processed_data, processed_col))\n",
    "    les.append(le)\n",
    "\n",
    "processed_data = np.vstack((processed_data, engineered_data.T[64:]))\n",
    "processed_data = processed_data.T"
   ]
  },
  {
   "cell_type": "code",
   "execution_count": 7,
   "metadata": {},
   "outputs": [
    {
     "name": "stdout",
     "output_type": "stream",
     "text": [
      "(22070, 76) 64\n"
     ]
    }
   ],
   "source": [
    "print(processed_data.shape, len(les))"
   ]
  },
  {
   "cell_type": "markdown",
   "metadata": {},
   "source": [
    "***Oversampling and Train-Test Split***"
   ]
  },
  {
   "cell_type": "code",
   "execution_count": 84,
   "metadata": {},
   "outputs": [],
   "source": [
    "ys = np.array(targets)\n",
    "xs = processed_data[:ys.shape[0]]\n",
    "\n",
    "test_xs = xs[int(0.9*xs.shape[0]):]\n",
    "test_ys = ys[int(0.9*xs.shape[0]):]\n",
    "train_xs = xs[:int(0.9*xs.shape[0])]\n",
    "train_ys = ys[:int(0.9*xs.shape[0])]\n",
    "\n",
    "ada = ADASYN(random_state = 1729)\n",
    "train_xs, train_ys = ada.fit_resample(train_xs.astype(np.int), train_ys)"
   ]
  },
  {
   "cell_type": "markdown",
   "metadata": {},
   "source": [
    "***Train Model***"
   ]
  },
  {
   "cell_type": "code",
   "execution_count": 85,
   "metadata": {},
   "outputs": [
    {
     "data": {
      "text/plain": [
       "RandomForestClassifier(bootstrap=True, class_weight=None, criterion='gini',\n",
       "            max_depth=None, max_features='auto', max_leaf_nodes=None,\n",
       "            min_impurity_decrease=0.0, min_impurity_split=None,\n",
       "            min_samples_leaf=1, min_samples_split=2,\n",
       "            min_weight_fraction_leaf=0.0, n_estimators=1000, n_jobs=None,\n",
       "            oob_score=False, random_state=42, verbose=0, warm_start=False)"
      ]
     },
     "execution_count": 85,
     "metadata": {},
     "output_type": "execute_result"
    }
   ],
   "source": [
    "clf = RandomForestClassifier(n_estimators = 1000, random_state = 42)\n",
    "clf.fit(train_xs, train_ys)"
   ]
  },
  {
   "cell_type": "markdown",
   "metadata": {},
   "source": [
    "***Check Accuracy (best: 69%)***"
   ]
  },
  {
   "cell_type": "code",
   "execution_count": 86,
   "metadata": {},
   "outputs": [
    {
     "name": "stdout",
     "output_type": "stream",
     "text": [
      "Out of a total of 2050 samples, 1416 were correct\n"
     ]
    }
   ],
   "source": [
    "pred = clf.predict(test_xs)\n",
    "total = test_ys.shape[0]\n",
    "correct = len([x for x in pred==test_ys if x==True])\n",
    "print(\"Out of a total of %d samples, %d were correct\" %(total, correct))"
   ]
  },
  {
   "cell_type": "markdown",
   "metadata": {},
   "source": [
    "***Plot Confusion Matrix (best accuracies: White = 79%, Black = 62%, Draw = 61%)***"
   ]
  },
  {
   "cell_type": "code",
   "execution_count": 87,
   "metadata": {},
   "outputs": [
    {
     "name": "stdout",
     "output_type": "stream",
     "text": [
      "Normalized confusion matrix\n",
      "[[0.77179487 0.09230769 0.13589744]\n",
      " [0.16346154 0.68846154 0.14807692]\n",
      " [0.24666667 0.14533333 0.608     ]]\n"
     ]
    },
    {
     "data": {
      "image/png": "[encoded data removed]",
      "text/plain": [
       "<Figure size 432x288 with 2 Axes>"
      ]
     },
     "metadata": {
      "needs_background": "light"
     },
     "output_type": "display_data"
    }
   ],
   "source": [
    "def plot_confusion_matrix(cm, classes,\n",
    "                          normalize=False,\n",
    "                          title='Confusion matrix',\n",
    "                          cmap=plt.cm.Blues):\n",
    "    \"\"\"\n",
    "    This function prints and plots the confusion matrix.\n",
    "    Normalization can be applied by setting `normalize=True`.\n",
    "    \"\"\"\n",
    "    if normalize:\n",
    "        cm = cm.astype('float') / cm.sum(axis=1)[:, np.newaxis]\n",
    "        print(\"Normalized confusion matrix\")\n",
    "    else:\n",
    "        print('Confusion matrix, without normalization')\n",
    "\n",
    "    print(cm)\n",
    "\n",
    "    plt.imshow(cm, interpolation='nearest', cmap=cmap)\n",
    "    plt.title(title)\n",
    "    plt.colorbar()\n",
    "    tick_marks = np.arange(len(classes))\n",
    "    plt.xticks(tick_marks, classes, rotation=45)\n",
    "    plt.yticks(tick_marks, classes)\n",
    "\n",
    "    fmt = '.2f' if normalize else 'd'\n",
    "    thresh = cm.max() / 2.\n",
    "    for i, j in itertools.product(range(cm.shape[0]), range(cm.shape[1])):\n",
    "        plt.text(j, i, format(cm[i, j], fmt),\n",
    "                 horizontalalignment=\"center\",\n",
    "                 color=\"white\" if cm[i, j] > thresh else \"black\")\n",
    "\n",
    "    plt.ylabel('True label')\n",
    "    plt.xlabel('Predicted label')\n",
    "    plt.tight_layout()\n",
    "\n",
    "cnf_matrix = confusion_matrix(test_ys, pred)\n",
    "plt.figure()\n",
    "plot_confusion_matrix(cnf_matrix, classes=['white', 'black', 'draw'], normalize=True)"
   ]
  },
  {
   "cell_type": "code",
   "execution_count": 92,
   "metadata": {},
   "outputs": [
    {
     "name": "stdout",
     "output_type": "stream",
     "text": [
      "872 539 639\n",
      "780 520 750\n"
     ]
    }
   ],
   "source": [
    "print(pred.tolist().count('0\\n'), pred.tolist().count('1\\n'), pred.tolist().count('2\\n'))\n",
    "print(test_ys.tolist().count('0\\n'), test_ys.tolist().count('1\\n'), test_ys.tolist().count('2\\n'))"
   ]
  },
  {
   "cell_type": "code",
   "execution_count": 95,
   "metadata": {},
   "outputs": [
    {
     "data": {
      "text/plain": [
       "array([0.0063577 , 0.00532543, 0.00626794, 0.00727498, 0.00713167,\n",
       "       0.01197662, 0.00731028, 0.00678035, 0.00832936, 0.01167249,\n",
       "       0.00849524, 0.00945885, 0.01033327, 0.01399831, 0.01502124,\n",
       "       0.00987787, 0.00834815, 0.01089388, 0.01098687, 0.01185722,\n",
       "       0.01234015, 0.01337929, 0.01129504, 0.01084845, 0.00976246,\n",
       "       0.01036044, 0.01099058, 0.01373983, 0.01299068, 0.01062826,\n",
       "       0.01216535, 0.01093191, 0.00923865, 0.01009464, 0.01106351,\n",
       "       0.01176875, 0.01392505, 0.01094134, 0.01112796, 0.01171119,\n",
       "       0.00908105, 0.0099612 , 0.00982832, 0.008808  , 0.01169048,\n",
       "       0.01126241, 0.01456098, 0.01157289, 0.00938505, 0.0104347 ,\n",
       "       0.00841809, 0.00795635, 0.00918692, 0.01458052, 0.01350831,\n",
       "       0.0105714 , 0.00606804, 0.00466765, 0.00556545, 0.00595418,\n",
       "       0.00576706, 0.00783308, 0.00876036, 0.00583729, 0.00774002,\n",
       "       0.00832586, 0.01274107, 0.01254806, 0.01699278, 0.01932983,\n",
       "       0.03626041, 0.04023734, 0.15808581, 0.00351249, 0.00487629,\n",
       "       0.04108902])"
      ]
     },
     "execution_count": 95,
     "metadata": {},
     "output_type": "execute_result"
    }
   ],
   "source": [
    "clf.feature_importances_"
   ]
  },
  {
   "cell_type": "markdown",
   "metadata": {},
   "source": [
    "***Try Gradient Boosters (Best Accuracy: 67%)***"
   ]
  },
  {
   "cell_type": "code",
   "execution_count": 90,
   "metadata": {},
   "outputs": [
    {
     "data": {
      "text/plain": [
       "XGBClassifier(base_score=0.5, booster='gbtree', colsample_bylevel=1,\n",
       "       colsample_bynode=1, colsample_bytree=1, gamma=0, learning_rate=0.1,\n",
       "       max_delta_step=0, max_depth=2, min_child_weight=1, missing=None,\n",
       "       n_estimators=1000, n_jobs=1, nthread=None,\n",
       "       objective='multi:softprob', random_state=42, reg_alpha=0,\n",
       "       reg_beta=10, reg_lambda=1, scale_pos_weight=1, seed=None,\n",
       "       silent=None, subsample=1, verbosity=1)"
      ]
     },
     "execution_count": 90,
     "metadata": {},
     "output_type": "execute_result"
    }
   ],
   "source": [
    "clf2 = XGBClassifier(learning_rate = 0.1, n_estimators = 1000, max_depth = 2, reg_beta = 10, random_state = 42)\n",
    "clf2.fit(train_xs, train_ys)"
   ]
  },
  {
   "cell_type": "code",
   "execution_count": 91,
   "metadata": {},
   "outputs": [
    {
     "name": "stdout",
     "output_type": "stream",
     "text": [
      "Out of a total of 2050 samples, 1346 were correct\n",
      "Normalized confusion matrix\n",
      "[[0.69487179 0.11538462 0.18974359]\n",
      " [0.12692308 0.66538462 0.20769231]\n",
      " [0.216      0.17333333 0.61066667]]\n"
     ]
    },
    {
     "data": {
      "image/png": "[encoded data removed]",
      "text/plain": [
       "<Figure size 432x288 with 2 Axes>"
      ]
     },
     "metadata": {
      "needs_background": "light"
     },
     "output_type": "display_data"
    }
   ],
   "source": [
    "pred2 = clf2.predict(test_xs)\n",
    "total = test_ys.shape[0]\n",
    "correct = len([x for x in pred2==test_ys if x==True])\n",
    "print(\"Out of a total of %d samples, %d were correct\" %(total, correct))\n",
    "\n",
    "cnf_matrix = confusion_matrix(test_ys, pred2)\n",
    "plt.figure()\n",
    "plot_confusion_matrix(cnf_matrix, classes=['white', 'black', 'draw'], normalize=True)"
   ]
  },
  {
   "cell_type": "code",
   "execution_count": 96,
   "metadata": {},
   "outputs": [
    {
     "name": "stdout",
     "output_type": "stream",
     "text": [
      "770 566 714\n"
     ]
    }
   ],
   "source": [
    "print(pred2.tolist().count('0\\n'), pred2.tolist().count('1\\n'), pred2.tolist().count('2\\n')) #white wins, black wins, draws"
   ]
  },
  {
   "cell_type": "code",
   "execution_count": 97,
   "metadata": {},
   "outputs": [
    {
     "data": {
      "text/plain": [
       "array([0.01205836, 0.00865553, 0.01124946, 0.01071156, 0.01374696,\n",
       "       0.02310166, 0.011319  , 0.02199601, 0.01145144, 0.01181581,\n",
       "       0.009606  , 0.01686651, 0.00928612, 0.01580484, 0.01456988,\n",
       "       0.00795328, 0.00710546, 0.00906123, 0.0117458 , 0.01067681,\n",
       "       0.00824801, 0.01292689, 0.00893072, 0.01220911, 0.01178563,\n",
       "       0.00997896, 0.00997221, 0.00758169, 0.00617388, 0.00806711,\n",
       "       0.02212675, 0.01054332, 0.00813957, 0.00717881, 0.00565387,\n",
       "       0.00702965, 0.01217937, 0.00674058, 0.00873534, 0.01108822,\n",
       "       0.00983109, 0.00606898, 0.00791201, 0.008422  , 0.01074319,\n",
       "       0.00719538, 0.0133123 , 0.01248342, 0.00926519, 0.00792885,\n",
       "       0.01096946, 0.00881835, 0.01202467, 0.01364481, 0.01151558,\n",
       "       0.00775911, 0.00810175, 0.00756941, 0.00560765, 0.00969625,\n",
       "       0.00899666, 0.01007294, 0.01031467, 0.01276225, 0.00804781,\n",
       "       0.02452754, 0.02981753, 0.01112635, 0.00889227, 0.01553193,\n",
       "       0.03339991, 0.02312885, 0.1077862 , 0.01973493, 0.02494681,\n",
       "       0.01797251], dtype=float32)"
      ]
     },
     "execution_count": 97,
     "metadata": {},
     "output_type": "execute_result"
    }
   ],
   "source": [
    "clf2.feature_importances_"
   ]
  },
  {
   "cell_type": "code",
   "execution_count": 98,
   "metadata": {},
   "outputs": [],
   "source": [
    "def predict_result(fen, classifier = clf):\n",
    "    global les\n",
    "    \n",
    "    line_features = []\n",
    "    position = fen[:fen.index(' ')]\n",
    "    \n",
    "    #Split the position into individual squares\n",
    "    rows = position.split('/')\n",
    "    expanded_position = []\n",
    "    for row in rows:\n",
    "        expanded_row = ''\n",
    "        for char in row:\n",
    "            if char.isdigit():\n",
    "                for i in range(int(char)):\n",
    "                    expanded_row += ' '\n",
    "            else:\n",
    "                expanded_row += char\n",
    "        expanded_row = [char for char in expanded_row]\n",
    "        expanded_position += expanded_row\n",
    "    line_features += expanded_position\n",
    "    \n",
    "    #Count number of each type of piece\n",
    "    qs = position.count('q')\n",
    "    Qs = position.count('Q')\n",
    "    rs = position.count('r')\n",
    "    Rs = position.count('R')\n",
    "    pieces = position.count('b')+position.count('n')\n",
    "    Pieces = position.count('B')+position.count('N')\n",
    "    pawns = position.count('p')\n",
    "    Pawns = position.count('P')\n",
    "    developed_pawns = expanded_position[48:].count('p')\n",
    "    Developed_Pawns = expanded_position[:16].count('P')\n",
    "    \n",
    "    line_features.append(qs)\n",
    "    line_features.append(Qs)\n",
    "    line_features.append(rs)\n",
    "    line_features.append(Rs)\n",
    "    line_features.append(pieces)\n",
    "    line_features.append(Pieces)\n",
    "    line_features.append(pawns)\n",
    "    line_features.append(Pawns)\n",
    "    line_features.append(9*(Qs-qs)+5*(Rs-rs)+3*(Pieces-pieces)+(Pawns-pawns)) #material advantage\n",
    "    line_features.append(developed_pawns)\n",
    "    line_features.append(Developed_Pawns)\n",
    "    line_features.append(qs+Qs+rs+Rs+pieces+Pieces+pawns+Pawns)\n",
    "    \n",
    "    #Convert to numeric\n",
    "    transformed = []\n",
    "    for i in range(64):\n",
    "        transformed.append(les[i].transform([line_features[i]]))\n",
    "    transformed += line_features[64:]\n",
    "    transformed = np.array(transformed)\n",
    "    transformed = transformed.reshape(1, -1)\n",
    "    \n",
    "    #Predict\n",
    "    pred = classifier.predict(transformed)\n",
    "    \n",
    "    #Print prediction\n",
    "    if pred == '0\\n':\n",
    "        print(\"White is predicted to win\")\n",
    "    elif pred == '1\\n':\n",
    "        print(\"Black is predicted to win\")\n",
    "    else:\n",
    "        print(\"The predicted result is a draw\")\n",
    "    \n",
    "    #get \"score\" (expected points earned by white where win = 1 point and draw = 0.5 points)\n",
    "    probabilities = classifier.predict_proba(transformed)\n",
    "    score = probabilities[0][0] + 0.5*probabilities[0][2]\n",
    "    print(\"Score: \", score) #a score of > 0.5 favours white. < 0.5 favours black\n"
   ]
  },
  {
   "cell_type": "code",
   "execution_count": 99,
   "metadata": {},
   "outputs": [
    {
     "name": "stdout",
     "output_type": "stream",
     "text": [
      "The predicted result is a draw\n",
      "Score:  0.482\n"
     ]
    }
   ],
   "source": [
    "predict_result(\"3r1qk1/1pp3pp/p1p2p2/8/7P/2P2P2/P1P2nPK/R3R3 b - - 2 20\")"
   ]
  },
  {
   "cell_type": "markdown",
   "metadata": {},
   "source": [
    "***Cross-Validation and Statistical Tests***"
   ]
  },
  {
   "cell_type": "code",
   "execution_count": 125,
   "metadata": {},
   "outputs": [],
   "source": [
    "scores = cross_val_score(clf, train_xs, train_ys, cv = StratifiedKFold(n_splits = 10))"
   ]
  },
  {
   "cell_type": "code",
   "execution_count": 129,
   "metadata": {},
   "outputs": [
    {
     "name": "stdout",
     "output_type": "stream",
     "text": [
      "scores: [0.70770722 0.68783325 0.66989821 0.70334464 0.74151309 0.67992241\n",
      " 0.68122271 0.78214459 0.82920912 0.7845706 ]\n",
      "95% confidence interval: 0.726737 (+/- 0.052010)\n"
     ]
    }
   ],
   "source": [
    "print(\"scores:\", scores)\n",
    "print(\"95%% confidence interval: %f (+/- %f)\" %(np.mean(scores), np.std(scores)))"
   ]
  },
  {
   "cell_type": "code",
   "execution_count": 130,
   "metadata": {},
   "outputs": [
    {
     "name": "stdout",
     "output_type": "stream",
     "text": [
      "scores: [0.62682927 0.64585366 0.6        0.66536585 0.65804878 0.59853659\n",
      " 0.62146341 0.64829268 0.61365854 0.6595122 ]\n",
      "95% confidence interval: 0.633756 (+/- 0.023650)\n"
     ]
    }
   ],
   "source": [
    "class MaterialClassifier():\n",
    "    '''classifier based off of material advantage. Assumes material advantage is the index i feature in the data.'''\n",
    "    def __init__(self, win_boundary, i):\n",
    "        self.win_boundary = win_boundary\n",
    "        self.i = i\n",
    "    \n",
    "    def fit(self, X, y):\n",
    "        return self\n",
    "    \n",
    "    def predict(self, X):\n",
    "        return np.array(['0\\n' if int(x[self.i]) >= self.win_boundary else '1\\n' if int(x[self.i]) <= -self.win_boundary else '2\\n' for x in X])\n",
    "    \n",
    "    def score(self, X, y):\n",
    "        pred = self.predict(X)\n",
    "        total = y.shape[0]\n",
    "        correct = len([x for x in pred==y if x==True])\n",
    "        return correct / total\n",
    "    \n",
    "    def get_params(self, deep = False):\n",
    "        return {'win_boundary':self.win_boundary, 'i':self.i}\n",
    "    \n",
    "    \n",
    "material_clf = MaterialClassifier(1, -4)\n",
    "material_scores = cross_val_score(material_clf, xs, ys, cv = KFold(n_splits = 10))\n",
    "print(\"scores:\", material_scores)\n",
    "print(\"95%% confidence interval: %f (+/- %f)\" %(np.mean(material_scores), np.std(material_scores)))\n",
    "        "
   ]
  },
  {
   "cell_type": "code",
   "execution_count": 131,
   "metadata": {},
   "outputs": [
    {
     "name": "stdout",
     "output_type": "stream",
     "text": [
      "result when compared to random predictions: Ttest_relResult(statistic=22.88431783979324, pvalue=2.7590005585181213e-09)\n",
      "result when compared to predictions based on material: Ttest_relResult(statistic=5.539409547779677, pvalue=0.00036132365987764703)\n"
     ]
    }
   ],
   "source": [
    "random_scores = [0.33]*10\n",
    "print(\"result when compared to random predictions:\", ttest_rel(scores, random_scores))\n",
    "print(\"result when compared to predictions based on material:\", ttest_rel(scores, material_scores))"
   ]
  },
  {
   "cell_type": "code",
   "execution_count": null,
   "metadata": {},
   "outputs": [],
   "source": []
  }
 ],
 "metadata": {
  "kernelspec": {
   "display_name": "Python 3",
   "language": "python",
   "name": "python3"
  },
  "language_info": {
   "codemirror_mode": {
    "name": "ipython",
    "version": 3
   },
   "file_extension": ".py",
   "mimetype": "text/x-python",
   "name": "python",
   "nbconvert_exporter": "python",
   "pygments_lexer": "ipython3",
   "version": "3.5.2"
  }
 },
 "nbformat": 4,
 "nbformat_minor": 2
}
