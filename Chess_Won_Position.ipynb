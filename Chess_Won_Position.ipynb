{
 "cells": [
  {
   "cell_type": "code",
   "execution_count": 33,
   "metadata": {},
   "outputs": [],
   "source": [
    "import re\n",
    "import itertools\n",
    "import pandas\n",
    "import numpy as np\n",
    "from sklearn.ensemble import RandomForestClassifier, ExtraTreesClassifier, GradientBoostingClassifier\n",
    "from sklearn.svm import SVC\n",
    "from sklearn.preprocessing import LabelEncoder, OneHotEncoder, OrdinalEncoder\n",
    "from sklearn.model_selection import train_test_split\n",
    "from imblearn.over_sampling import RandomOverSampler, SMOTE, ADASYN\n",
    "from sklearn.metrics import confusion_matrix\n",
    "from sklearn.model_selection import cross_val_score, KFold\n",
    "import matplotlib.pyplot as plt\n",
    "from scipy.stats import ttest_rel"
   ]
  },
  {
   "cell_type": "markdown",
   "metadata": {},
   "source": [
    "***Read In Data***"
   ]
  },
  {
   "cell_type": "code",
   "execution_count": 2,
   "metadata": {},
   "outputs": [],
   "source": [
    "file1 = open('chess_fens3.txt')\n",
    "data = file1.readlines()\n",
    "file2 = open('chess_results2.txt')\n",
    "targets = file2.readlines()"
   ]
  },
  {
   "cell_type": "code",
   "execution_count": 3,
   "metadata": {},
   "outputs": [
    {
     "name": "stdout",
     "output_type": "stream",
     "text": [
      "22070 20500\n"
     ]
    }
   ],
   "source": [
    "print(len(data), len(targets))"
   ]
  },
  {
   "cell_type": "markdown",
   "metadata": {},
   "source": [
    "***Feature Engineering***"
   ]
  },
  {
   "cell_type": "code",
   "execution_count": 4,
   "metadata": {},
   "outputs": [],
   "source": [
    "engineered_data = []\n",
    "\n",
    "for line in data:\n",
    "    line_features = []\n",
    "    position = line[:line.index(' ')]\n",
    "    \n",
    "    #Split the position into individual squares\n",
    "    rows = position.split('/')\n",
    "    expanded_position = []\n",
    "    for row in rows:\n",
    "        expanded_row = ''\n",
    "        for char in row:\n",
    "            if char.isdigit():\n",
    "                for i in range(int(char)):\n",
    "                    expanded_row += ' '\n",
    "            else:\n",
    "                expanded_row += char\n",
    "        expanded_row = [char for char in expanded_row]\n",
    "        expanded_position += expanded_row\n",
    "    line_features += expanded_position \n",
    "    \n",
    "    #Count number of each type of piece\n",
    "    qs = position.count('q')\n",
    "    Qs = position.count('Q')\n",
    "    rs = position.count('r')\n",
    "    Rs = position.count('R')\n",
    "    pieces = position.count('b')+position.count('n')\n",
    "    Pieces = position.count('B')+position.count('N')\n",
    "    pawns = position.count('p')\n",
    "    Pawns = position.count('P')\n",
    "    developed_pawns = expanded_position[48:].count('p')\n",
    "    Developed_Pawns = expanded_position[:16].count('P')\n",
    "    \n",
    "    line_features.append(qs)\n",
    "    line_features.append(Qs)\n",
    "    line_features.append(rs)\n",
    "    line_features.append(Rs)\n",
    "    line_features.append(pieces)\n",
    "    line_features.append(Pieces)\n",
    "    line_features.append(pawns)\n",
    "    line_features.append(Pawns)\n",
    "    line_features.append(9*(Qs-qs)+5*(Rs-rs)+3*(Pieces-pieces)+(Pawns-pawns)) #material advantage\n",
    "    line_features.append(developed_pawns)\n",
    "    line_features.append(Developed_Pawns)\n",
    "    line_features.append(qs+Qs+rs+Rs+pieces+Pieces+pawns+Pawns)\n",
    "    \n",
    "    engineered_data.append(line_features)\n",
    "\n",
    "engineered_data = np.array([np.array(x) for x in engineered_data])"
   ]
  },
  {
   "cell_type": "code",
   "execution_count": 5,
   "metadata": {},
   "outputs": [
    {
     "data": {
      "text/plain": [
       "(22070, 76)"
      ]
     },
     "execution_count": 5,
     "metadata": {},
     "output_type": "execute_result"
    }
   ],
   "source": [
    "engineered_data.shape"
   ]
  },
  {
   "cell_type": "markdown",
   "metadata": {},
   "source": [
    "***Process Categorical Data***"
   ]
  },
  {
   "cell_type": "code",
   "execution_count": 6,
   "metadata": {},
   "outputs": [],
   "source": [
    "les = []\n",
    "le = LabelEncoder()\n",
    "le.fit(engineered_data.T[0])\n",
    "processed_data = le.transform(engineered_data.T[0])\n",
    "les.append(le)\n",
    "\n",
    "for col in engineered_data.T[1:64]:\n",
    "    le = LabelEncoder()\n",
    "    le.fit(col)\n",
    "    processed_col = le.transform(col)\n",
    "    processed_data = np.vstack((processed_data, processed_col))\n",
    "    les.append(le)\n",
    "\n",
    "processed_data = np.vstack((processed_data, engineered_data.T[64:]))\n",
    "processed_data = processed_data.T"
   ]
  },
  {
   "cell_type": "code",
   "execution_count": 7,
   "metadata": {},
   "outputs": [
    {
     "name": "stdout",
     "output_type": "stream",
     "text": [
      "(22070, 76) 64\n"
     ]
    }
   ],
   "source": [
    "print(processed_data.shape, len(les))"
   ]
  },
  {
   "cell_type": "markdown",
   "metadata": {},
   "source": [
    "***Oversampling and Train-Test Split***"
   ]
  },
  {
   "cell_type": "code",
   "execution_count": 8,
   "metadata": {},
   "outputs": [],
   "source": [
    "ys = np.array(targets)\n",
    "xs = processed_data[:ys.shape[0]]\n",
    "\n",
    "test_xs = xs[int(0.8*xs.shape[0]):]\n",
    "test_ys = ys[int(0.8*xs.shape[0]):]\n",
    "train_xs = xs[:int(0.8*xs.shape[0])]\n",
    "train_ys = ys[:int(0.8*xs.shape[0])]\n",
    "\n",
    "ada = ADASYN(random_state = 1729)\n",
    "train_xs, train_ys = ada.fit_resample(train_xs.astype(np.int), train_ys)"
   ]
  },
  {
   "cell_type": "markdown",
   "metadata": {},
   "source": [
    "***Train Model***"
   ]
  },
  {
   "cell_type": "code",
   "execution_count": 9,
   "metadata": {},
   "outputs": [
    {
     "data": {
      "text/plain": [
       "RandomForestClassifier(bootstrap=True, class_weight=None, criterion='gini',\n",
       "            max_depth=None, max_features='auto', max_leaf_nodes=None,\n",
       "            min_impurity_decrease=0.0, min_impurity_split=None,\n",
       "            min_samples_leaf=1, min_samples_split=2,\n",
       "            min_weight_fraction_leaf=0.0, n_estimators=1000, n_jobs=None,\n",
       "            oob_score=False, random_state=42, verbose=0, warm_start=False)"
      ]
     },
     "execution_count": 9,
     "metadata": {},
     "output_type": "execute_result"
    }
   ],
   "source": [
    "clf = RandomForestClassifier(n_estimators = 1000, random_state = 42)\n",
    "clf.fit(train_xs, train_ys)"
   ]
  },
  {
   "cell_type": "markdown",
   "metadata": {},
   "source": [
    "***Check Accuracy (best: 67%)***"
   ]
  },
  {
   "cell_type": "code",
   "execution_count": 10,
   "metadata": {},
   "outputs": [
    {
     "name": "stdout",
     "output_type": "stream",
     "text": [
      "Out of a total of 4100 samples, 2787 were correct\n"
     ]
    }
   ],
   "source": [
    "pred = clf.predict(test_xs)\n",
    "total = test_ys.shape[0]\n",
    "correct = len([x for x in pred==test_ys if x==True])\n",
    "print(\"Out of a total of %d samples, %d were correct\" %(total, correct))"
   ]
  },
  {
   "cell_type": "markdown",
   "metadata": {},
   "source": [
    "***Plot Confusion Matrix (best accuracies: White = 79%, Black = 62%, Draw = 61%)***"
   ]
  },
  {
   "cell_type": "code",
   "execution_count": 11,
   "metadata": {},
   "outputs": [
    {
     "name": "stdout",
     "output_type": "stream",
     "text": [
      "Normalized confusion matrix\n",
      "[[0.78910256 0.08012821 0.13076923]\n",
      " [0.19375    0.61607143 0.19017857]\n",
      " [0.25352113 0.13661972 0.60985915]]\n"
     ]
    },
    {
     "data": {
      "image/png": "[encoded data removed]",
      "text/plain": [
       "<Figure size 432x288 with 2 Axes>"
      ]
     },
     "metadata": {
      "needs_background": "light"
     },
     "output_type": "display_data"
    }
   ],
   "source": [
    "def plot_confusion_matrix(cm, classes,\n",
    "                          normalize=False,\n",
    "                          title='Confusion matrix',\n",
    "                          cmap=plt.cm.Blues):\n",
    "    \"\"\"\n",
    "    This function prints and plots the confusion matrix.\n",
    "    Normalization can be applied by setting `normalize=True`.\n",
    "    \"\"\"\n",
    "    if normalize:\n",
    "        cm = cm.astype('float') / cm.sum(axis=1)[:, np.newaxis]\n",
    "        print(\"Normalized confusion matrix\")\n",
    "    else:\n",
    "        print('Confusion matrix, without normalization')\n",
    "\n",
    "    print(cm)\n",
    "\n",
    "    plt.imshow(cm, interpolation='nearest', cmap=cmap)\n",
    "    plt.title(title)\n",
    "    plt.colorbar()\n",
    "    tick_marks = np.arange(len(classes))\n",
    "    plt.xticks(tick_marks, classes, rotation=45)\n",
    "    plt.yticks(tick_marks, classes)\n",
    "\n",
    "    fmt = '.2f' if normalize else 'd'\n",
    "    thresh = cm.max() / 2.\n",
    "    for i, j in itertools.product(range(cm.shape[0]), range(cm.shape[1])):\n",
    "        plt.text(j, i, format(cm[i, j], fmt),\n",
    "                 horizontalalignment=\"center\",\n",
    "                 color=\"white\" if cm[i, j] > thresh else \"black\")\n",
    "\n",
    "    plt.ylabel('True label')\n",
    "    plt.xlabel('Predicted label')\n",
    "    plt.tight_layout()\n",
    "\n",
    "cnf_matrix = confusion_matrix(test_ys, pred)\n",
    "plt.figure()\n",
    "plot_confusion_matrix(cnf_matrix, classes=['white', 'black', 'draw'], normalize=True)"
   ]
  },
  {
   "cell_type": "code",
   "execution_count": 12,
   "metadata": {},
   "outputs": [
    {
     "name": "stdout",
     "output_type": "stream",
     "text": [
      "1808 1009 1283\n",
      "1560 1120 1420\n"
     ]
    }
   ],
   "source": [
    "print(pred.tolist().count('0\\n'), pred.tolist().count('1\\n'), pred.tolist().count('2\\n'))\n",
    "print(test_ys.tolist().count('0\\n'), test_ys.tolist().count('1\\n'), test_ys.tolist().count('2\\n'))"
   ]
  },
  {
   "cell_type": "code",
   "execution_count": 13,
   "metadata": {},
   "outputs": [
    {
     "data": {
      "text/plain": [
       "array([0.00603141, 0.00542772, 0.0065483 , 0.00735961, 0.00714185,\n",
       "       0.01235925, 0.00768965, 0.00664077, 0.00841619, 0.0115239 ,\n",
       "       0.00825145, 0.00909278, 0.0103613 , 0.01391241, 0.01525374,\n",
       "       0.01009312, 0.00879501, 0.01128466, 0.0108295 , 0.0118649 ,\n",
       "       0.01226625, 0.01290523, 0.01127172, 0.01124456, 0.00956919,\n",
       "       0.01055457, 0.01180404, 0.01377655, 0.01303328, 0.01048996,\n",
       "       0.01176405, 0.01098481, 0.00886788, 0.01013731, 0.01079554,\n",
       "       0.01138543, 0.01343609, 0.01131253, 0.01122361, 0.01116411,\n",
       "       0.00948406, 0.00977109, 0.00985162, 0.00838996, 0.01101705,\n",
       "       0.01108104, 0.01391174, 0.01170562, 0.00965157, 0.01058042,\n",
       "       0.00816   , 0.00811388, 0.00905998, 0.01534975, 0.01416788,\n",
       "       0.01034343, 0.00593191, 0.00493575, 0.00567089, 0.00531339,\n",
       "       0.0054065 , 0.00820572, 0.00855702, 0.00578116, 0.0073907 ,\n",
       "       0.00896268, 0.01295498, 0.01287873, 0.01700194, 0.01943318,\n",
       "       0.03594098, 0.03850349, 0.1600377 , 0.00370105, 0.00528916,\n",
       "       0.04059978])"
      ]
     },
     "execution_count": 13,
     "metadata": {},
     "output_type": "execute_result"
    }
   ],
   "source": [
    "clf.feature_importances_"
   ]
  },
  {
   "cell_type": "markdown",
   "metadata": {},
   "source": [
    "***Try Gradient Boosters (Best Accuracy: 67%)***"
   ]
  },
  {
   "cell_type": "code",
   "execution_count": 14,
   "metadata": {},
   "outputs": [
    {
     "data": {
      "text/plain": [
       "GradientBoostingClassifier(criterion='friedman_mse', init=None,\n",
       "              learning_rate=0.1, loss='deviance', max_depth=2,\n",
       "              max_features=None, max_leaf_nodes=None,\n",
       "              min_impurity_decrease=0.0, min_impurity_split=None,\n",
       "              min_samples_leaf=1, min_samples_split=2,\n",
       "              min_weight_fraction_leaf=0.0, n_estimators=300,\n",
       "              n_iter_no_change=None, presort='auto', random_state=None,\n",
       "              subsample=1.0, tol=0.0001, validation_fraction=0.1,\n",
       "              verbose=0, warm_start=False)"
      ]
     },
     "execution_count": 14,
     "metadata": {},
     "output_type": "execute_result"
    }
   ],
   "source": [
    "clf2 = GradientBoostingClassifier(n_estimators = 300, max_depth = 2)\n",
    "clf2.fit(train_xs, train_ys)"
   ]
  },
  {
   "cell_type": "code",
   "execution_count": 15,
   "metadata": {},
   "outputs": [
    {
     "name": "stdout",
     "output_type": "stream",
     "text": [
      "Out of a total of 4100 samples, 2740 were correct\n",
      "Normalized confusion matrix\n",
      "[[0.73589744 0.10705128 0.15705128]\n",
      " [0.14642857 0.64375    0.20982143]\n",
      " [0.21267606 0.17394366 0.61338028]]\n"
     ]
    },
    {
     "data": {
      "image/png": "[encoded data removed]",
      "text/plain": [
       "<Figure size 432x288 with 2 Axes>"
      ]
     },
     "metadata": {
      "needs_background": "light"
     },
     "output_type": "display_data"
    }
   ],
   "source": [
    "pred2 = clf2.predict(test_xs)\n",
    "total = test_ys.shape[0]\n",
    "correct = len([x for x in pred2==test_ys if x==True])\n",
    "print(\"Out of a total of %d samples, %d were correct\" %(total, correct))\n",
    "\n",
    "cnf_matrix = confusion_matrix(test_ys, pred2)\n",
    "plt.figure()\n",
    "plot_confusion_matrix(cnf_matrix, classes=['white', 'black', 'draw'], normalize=True)"
   ]
  },
  {
   "cell_type": "code",
   "execution_count": 16,
   "metadata": {},
   "outputs": [
    {
     "name": "stdout",
     "output_type": "stream",
     "text": [
      "1614 1135 1351\n"
     ]
    }
   ],
   "source": [
    "print(pred2.tolist().count('0\\n'), pred2.tolist().count('1\\n'), pred2.tolist().count('2\\n')) #white wins, black wins, draws"
   ]
  },
  {
   "cell_type": "code",
   "execution_count": 17,
   "metadata": {},
   "outputs": [
    {
     "data": {
      "text/plain": [
       "array([0.00468072, 0.00298032, 0.00688168, 0.00670642, 0.00774919,\n",
       "       0.02521468, 0.00221635, 0.00778532, 0.00361229, 0.0047707 ,\n",
       "       0.00325613, 0.00796529, 0.00694873, 0.00822688, 0.01078776,\n",
       "       0.00161964, 0.00564156, 0.00423159, 0.00457531, 0.00530302,\n",
       "       0.00580427, 0.00748186, 0.00114883, 0.00719404, 0.00272776,\n",
       "       0.00750683, 0.00289808, 0.00387243, 0.00253073, 0.00346954,\n",
       "       0.00972638, 0.00787644, 0.00133102, 0.00218988, 0.00283509,\n",
       "       0.00261226, 0.00927392, 0.00389634, 0.00705929, 0.00480511,\n",
       "       0.01022786, 0.00139655, 0.00320027, 0.00490328, 0.00463088,\n",
       "       0.00420193, 0.00810466, 0.00733767, 0.00297536, 0.00172413,\n",
       "       0.00250468, 0.00548525, 0.00635261, 0.01108506, 0.01028957,\n",
       "       0.00305432, 0.00291868, 0.0026835 , 0.00137348, 0.00201921,\n",
       "       0.00538763, 0.00599107, 0.00685067, 0.00341507, 0.0014024 ,\n",
       "       0.01171991, 0.00589403, 0.00367676, 0.00384791, 0.01118997,\n",
       "       0.05384618, 0.03384412, 0.46857148, 0.00700377, 0.01252901,\n",
       "       0.04096739])"
      ]
     },
     "execution_count": 17,
     "metadata": {},
     "output_type": "execute_result"
    }
   ],
   "source": [
    "clf2.feature_importances_"
   ]
  },
  {
   "cell_type": "code",
   "execution_count": 18,
   "metadata": {},
   "outputs": [],
   "source": [
    "def predict_result(fen, classifier = clf):\n",
    "    global les\n",
    "    \n",
    "    line_features = []\n",
    "    position = fen[:fen.index(' ')]\n",
    "    \n",
    "    #Split the position into individual squares\n",
    "    rows = position.split('/')\n",
    "    expanded_position = []\n",
    "    for row in rows:\n",
    "        expanded_row = ''\n",
    "        for char in row:\n",
    "            if char.isdigit():\n",
    "                for i in range(int(char)):\n",
    "                    expanded_row += ' '\n",
    "            else:\n",
    "                expanded_row += char\n",
    "        expanded_row = [char for char in expanded_row]\n",
    "        expanded_position += expanded_row\n",
    "    line_features += expanded_position\n",
    "    \n",
    "    #Count number of each type of piece\n",
    "    qs = position.count('q')\n",
    "    Qs = position.count('Q')\n",
    "    rs = position.count('r')\n",
    "    Rs = position.count('R')\n",
    "    pieces = position.count('b')+position.count('n')\n",
    "    Pieces = position.count('B')+position.count('N')\n",
    "    pawns = position.count('p')\n",
    "    Pawns = position.count('P')\n",
    "    developed_pawns = expanded_position[48:].count('p')\n",
    "    Developed_Pawns = expanded_position[:16].count('P')\n",
    "    \n",
    "    line_features.append(qs)\n",
    "    line_features.append(Qs)\n",
    "    line_features.append(rs)\n",
    "    line_features.append(Rs)\n",
    "    line_features.append(pieces)\n",
    "    line_features.append(Pieces)\n",
    "    line_features.append(pawns)\n",
    "    line_features.append(Pawns)\n",
    "    line_features.append(9*(Qs-qs)+5*(Rs-rs)+3*(Pieces-pieces)+(Pawns-pawns)) #material advantage\n",
    "    line_features.append(developed_pawns)\n",
    "    line_features.append(Developed_Pawns)\n",
    "    line_features.append(qs+Qs+rs+Rs+pieces+Pieces+pawns+Pawns)\n",
    "    \n",
    "    #Convert to numeric\n",
    "    transformed = []\n",
    "    for i in range(64):\n",
    "        transformed.append(les[i].transform([line_features[i]]))\n",
    "    transformed += line_features[64:]\n",
    "    transformed = np.array(transformed)\n",
    "    transformed = transformed.reshape(1, -1)\n",
    "    \n",
    "    #Predict\n",
    "    pred = classifier.predict(transformed)\n",
    "    \n",
    "    #Print prediction\n",
    "    if pred == '0\\n':\n",
    "        print(\"White is predicted to win\")\n",
    "    elif pred == '1\\n':\n",
    "        print(\"Black is predicted to win\")\n",
    "    else:\n",
    "        print(\"The predicted result is a draw\")\n",
    "    \n",
    "    #get \"score\" (expected points earned by white where win = 1 point and draw = 0.5 points)\n",
    "    probabilities = classifier.predict_proba(transformed)\n",
    "    score = probabilities[0][0] + 0.5*probabilities[0][2]\n",
    "    print(\"Score: \", score) #a score of > 0.5 favours white. < 0.5 favours black\n"
   ]
  },
  {
   "cell_type": "code",
   "execution_count": 19,
   "metadata": {},
   "outputs": [
    {
     "name": "stdout",
     "output_type": "stream",
     "text": [
      "The predicted result is a draw\n",
      "Score:  0.495\n"
     ]
    }
   ],
   "source": [
    "predict_result(\"3r1qk1/1pp3pp/p1p2p2/8/7P/2P2P2/P1P2nPK/R3R3 b - - 2 20\")"
   ]
  },
  {
   "cell_type": "markdown",
   "metadata": {},
   "source": [
    "***Cross-Validation and Statistical Tests***"
   ]
  },
  {
   "cell_type": "code",
   "execution_count": null,
   "metadata": {},
   "outputs": [],
   "source": [
    "scores = cross_val_score(clf, xs, ys, cv = KFold(n_splits = 10))"
   ]
  },
  {
   "cell_type": "code",
   "execution_count": 46,
   "metadata": {},
   "outputs": [
    {
     "name": "stdout",
     "output_type": "stream",
     "text": [
      "scores: [0.66682927 0.67560976 0.6702439  0.64829268 0.71512195 0.66926829\n",
      " 0.68487805 0.6804878  0.67365854 0.69365854]\n",
      "95% confidence interval: 0.677805 (+/- 0.016866)\n"
     ]
    }
   ],
   "source": [
    "print(\"scores:\", scores)\n",
    "print(\"95%% confidence interval: %f (+/- %f)\" %(np.mean(scores), np.std(scores)))"
   ]
  },
  {
   "cell_type": "code",
   "execution_count": 74,
   "metadata": {},
   "outputs": [
    {
     "name": "stdout",
     "output_type": "stream",
     "text": [
      "scores: [0.62682927 0.64585366 0.6        0.66536585 0.65804878 0.59853659\n",
      " 0.62146341 0.64829268 0.61365854 0.6595122 ]\n",
      "95% confidence interval: 0.633756 (+/- 0.023650)\n"
     ]
    }
   ],
   "source": [
    "class MaterialClassifier():\n",
    "    '''classifier based off of material advantage. Assumes material advantage is the index i feature in the data.'''\n",
    "    def __init__(self, win_boundary, i):\n",
    "        self.win_boundary = win_boundary\n",
    "        self.i = i\n",
    "    \n",
    "    def fit(self, X, y):\n",
    "        return self\n",
    "    \n",
    "    def predict(self, X):\n",
    "        return np.array(['0\\n' if int(x[self.i]) >= self.win_boundary else '1\\n' if int(x[self.i]) <= -self.win_boundary else '2\\n' for x in X])\n",
    "    \n",
    "    def score(self, X, y):\n",
    "        pred = self.predict(X)\n",
    "        total = y.shape[0]\n",
    "        correct = len([x for x in pred==y if x==True])\n",
    "        return correct / total\n",
    "    \n",
    "    def get_params(self, deep = False):\n",
    "        return {'win_boundary':self.win_boundary, 'i':self.i}\n",
    "    \n",
    "    \n",
    "material_clf = MaterialClassifier(1, -4)\n",
    "material_scores = cross_val_score(material_clf, xs, ys, cv = KFold(n_splits = 10))\n",
    "print(\"scores:\", material_scores)\n",
    "print(\"95%% confidence interval: %f (+/- %f)\" %(np.mean(material_scores), np.std(material_scores)))\n",
    "        "
   ]
  },
  {
   "cell_type": "code",
   "execution_count": 76,
   "metadata": {},
   "outputs": [
    {
     "name": "stdout",
     "output_type": "stream",
     "text": [
      "result when compared to random predictions: Ttest_relResult(statistic=61.86500842335316, pvalue=3.7991994578043955e-13)\n",
      "result when compared to predictions based on material: Ttest_relResult(statistic=5.226643243160573, pvalue=0.0005443565447409008)\n"
     ]
    }
   ],
   "source": [
    "random_scores = [0.33]*10\n",
    "print(\"result when compared to random predictions:\", ttest_rel(scores, random_scores))\n",
    "print(\"result when compared to predictions based on material:\", ttest_rel(scores, material_scores))"
   ]
  },
  {
   "cell_type": "code",
   "execution_count": null,
   "metadata": {},
   "outputs": [],
   "source": []
  }
 ],
 "metadata": {
  "kernelspec": {
   "display_name": "Python 3",
   "language": "python",
   "name": "python3"
  },
  "language_info": {
   "codemirror_mode": {
    "name": "ipython",
    "version": 3
   },
   "file_extension": ".py",
   "mimetype": "text/x-python",
   "name": "python",
   "nbconvert_exporter": "python",
   "pygments_lexer": "ipython3",
   "version": "3.5.2"
  }
 },
 "nbformat": 4,
 "nbformat_minor": 2
}
