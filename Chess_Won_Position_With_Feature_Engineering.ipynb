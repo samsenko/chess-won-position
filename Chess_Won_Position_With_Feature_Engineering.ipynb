{
 "cells": [
  {
   "cell_type": "code",
   "execution_count": 19,
   "metadata": {},
   "outputs": [],
   "source": [
    "import re\n",
    "import itertools\n",
    "import pandas\n",
    "import numpy as np\n",
    "from sklearn.ensemble import RandomForestClassifier, ExtraTreesClassifier, GradientBoostingClassifier\n",
    "from sklearn.preprocessing import LabelEncoder, OneHotEncoder, OrdinalEncoder\n",
    "from sklearn.model_selection import train_test_split\n",
    "from imblearn.over_sampling import RandomOverSampler, SMOTE\n",
    "from sklearn.metrics import confusion_matrix\n",
    "import matplotlib.pyplot as plt"
   ]
  },
  {
   "cell_type": "markdown",
   "metadata": {},
   "source": [
    "***Read In Data***"
   ]
  },
  {
   "cell_type": "code",
   "execution_count": 20,
   "metadata": {},
   "outputs": [],
   "source": [
    "file1 = open('chess_fens3.txt')\n",
    "data = file1.readlines()\n",
    "file2 = open('chess_results2.txt')\n",
    "targets = file2.readlines()"
   ]
  },
  {
   "cell_type": "code",
   "execution_count": 21,
   "metadata": {},
   "outputs": [
    {
     "name": "stdout",
     "output_type": "stream",
     "text": [
      "22070 20500\n"
     ]
    }
   ],
   "source": [
    "print(len(data), len(targets))"
   ]
  },
  {
   "cell_type": "markdown",
   "metadata": {},
   "source": [
    "***Feature Engineering***"
   ]
  },
  {
   "cell_type": "code",
   "execution_count": 46,
   "metadata": {},
   "outputs": [],
   "source": [
    "engineered_data = []\n",
    "\n",
    "for line in data:\n",
    "    line_features = []\n",
    "    position = line[:line.index(' ')]\n",
    "    \n",
    "    #Split the position into individual squares\n",
    "    rows = position.split('/')\n",
    "    expanded_position = []\n",
    "    for row in rows:\n",
    "        expanded_row = ''\n",
    "        for char in row:\n",
    "            if char.isdigit():\n",
    "                for i in range(int(char)):\n",
    "                    expanded_row += ' '\n",
    "            else:\n",
    "                expanded_row += char\n",
    "        expanded_row = [char for char in expanded_row]\n",
    "        expanded_position += expanded_row\n",
    "    line_features += expanded_position \n",
    "    \n",
    "    #Count number of each type of piece\n",
    "    qs = position.count('q')\n",
    "    Qs = position.count('Q')\n",
    "    rs = position.count('r')\n",
    "    Rs = position.count('R')\n",
    "    pieces = position.count('b')+position.count('n')\n",
    "    Pieces = position.count('B')+position.count('N')\n",
    "    pawns = position.count('p')\n",
    "    Pawns = position.count('P')\n",
    "    developed_pawns = expanded_position[48:].count('p')\n",
    "    Developed_Pawns = expanded_position[:16].count('P')\n",
    "    \n",
    "    line_features.append(qs)\n",
    "    line_features.append(Qs)\n",
    "    line_features.append(rs)\n",
    "    line_features.append(Rs)\n",
    "    line_features.append(pieces)\n",
    "    line_features.append(Pieces)\n",
    "    line_features.append(pawns)\n",
    "    line_features.append(Pawns)\n",
    "    line_features.append(9*(Qs-qs)+5*(Rs-rs)+3*(Pieces-pieces)+(Pawns-pawns)) #material advantage\n",
    "    line_features.append(developed_pawns)\n",
    "    line_features.append(Developed_Pawns)\n",
    "    \n",
    "    engineered_data.append(line_features)\n",
    "\n",
    "engineered_data = np.array([np.array(x) for x in engineered_data])"
   ]
  },
  {
   "cell_type": "code",
   "execution_count": 47,
   "metadata": {},
   "outputs": [
    {
     "data": {
      "text/plain": [
       "(22070, 75)"
      ]
     },
     "execution_count": 47,
     "metadata": {},
     "output_type": "execute_result"
    }
   ],
   "source": [
    "engineered_data.shape"
   ]
  },
  {
   "cell_type": "markdown",
   "metadata": {},
   "source": [
    "***Process Categorical Data***"
   ]
  },
  {
   "cell_type": "code",
   "execution_count": 48,
   "metadata": {},
   "outputs": [],
   "source": [
    "les = []\n",
    "le = LabelEncoder()\n",
    "le.fit(engineered_data.T[0])\n",
    "processed_data = le.transform(engineered_data.T[0])\n",
    "les.append(le)\n",
    "\n",
    "for col in engineered_data.T[1:64]:\n",
    "    le = LabelEncoder()\n",
    "    le.fit(col)\n",
    "    processed_col = le.transform(col)\n",
    "    processed_data = np.vstack((processed_data, processed_col))\n",
    "    les.append(le)\n",
    "\n",
    "processed_data = np.vstack((processed_data, engineered_data.T[64:]))\n",
    "processed_data = processed_data.T"
   ]
  },
  {
   "cell_type": "code",
   "execution_count": 49,
   "metadata": {},
   "outputs": [
    {
     "name": "stdout",
     "output_type": "stream",
     "text": [
      "(22070, 75) 64\n"
     ]
    }
   ],
   "source": [
    "print(processed_data.shape, len(les))"
   ]
  },
  {
   "cell_type": "markdown",
   "metadata": {},
   "source": [
    "***Oversampling and Train-Test Split***"
   ]
  },
  {
   "cell_type": "code",
   "execution_count": 50,
   "metadata": {},
   "outputs": [],
   "source": [
    "ys = np.array(targets)\n",
    "xs = processed_data[:ys.shape[0]]\n",
    "xs = xs[int(0.2*ys.shape[0]):] #it appears that the first ~20% of the data is not very good\n",
    "ys = ys[int(0.2*ys.shape[0]):]\n",
    "\n",
    "ros = RandomOverSampler(random_state = 1729)\n",
    "xs_resampled, ys_resampled = ros.fit_resample(xs, ys)\n",
    "\n",
    "test_xs = xs_resampled[:int(0.2*xs_resampled.shape[0])]\n",
    "test_ys = ys_resampled[:int(0.2*xs_resampled.shape[0])]\n",
    "train_xs = xs_resampled[int(0.2*xs_resampled.shape[0]):]\n",
    "train_ys = ys_resampled[int(0.2*xs_resampled.shape[0]):]"
   ]
  },
  {
   "cell_type": "markdown",
   "metadata": {},
   "source": [
    "***Train Model***"
   ]
  },
  {
   "cell_type": "code",
   "execution_count": 51,
   "metadata": {},
   "outputs": [
    {
     "data": {
      "text/plain": [
       "RandomForestClassifier(bootstrap=True, class_weight=None, criterion='gini',\n",
       "            max_depth=None, max_features='auto', max_leaf_nodes=None,\n",
       "            min_impurity_decrease=0.0, min_impurity_split=None,\n",
       "            min_samples_leaf=1, min_samples_split=2,\n",
       "            min_weight_fraction_leaf=0.0, n_estimators=1000, n_jobs=None,\n",
       "            oob_score=False, random_state=42, verbose=0, warm_start=False)"
      ]
     },
     "execution_count": 51,
     "metadata": {},
     "output_type": "execute_result"
    }
   ],
   "source": [
    "clf = RandomForestClassifier(n_estimators = 1000, random_state = 42)\n",
    "clf.fit(train_xs, train_ys)"
   ]
  },
  {
   "cell_type": "markdown",
   "metadata": {},
   "source": [
    "***Check Accuracy (best: 85%)***"
   ]
  },
  {
   "cell_type": "code",
   "execution_count": 52,
   "metadata": {},
   "outputs": [
    {
     "name": "stdout",
     "output_type": "stream",
     "text": [
      "Out of a total of 3804 samples, 3238 were correct\n"
     ]
    }
   ],
   "source": [
    "pred = clf.predict(test_xs)\n",
    "total = test_ys.shape[0]\n",
    "correct = len([x for x in pred==test_ys if x==True])\n",
    "print(\"Out of a total of %d samples, %d were correct\" %(total, correct))"
   ]
  },
  {
   "cell_type": "markdown",
   "metadata": {},
   "source": [
    "***Plot Confusion Matrix (best accuracies: White = 79%, Black = 96%, Draw = 83%)***"
   ]
  },
  {
   "cell_type": "code",
   "execution_count": 53,
   "metadata": {},
   "outputs": [
    {
     "name": "stdout",
     "output_type": "stream",
     "text": [
      "Normalized confusion matrix\n",
      "[[0.79305556 0.06111111 0.14583333]\n",
      " [0.02941176 0.9573055  0.01328273]\n",
      " [0.07709924 0.09312977 0.82977099]]\n"
     ]
    },
    {
     "data": {
      "image/png": "[encoded data removed]",
      "text/plain": [
       "<Figure size 432x288 with 2 Axes>"
      ]
     },
     "metadata": {
      "needs_background": "light"
     },
     "output_type": "display_data"
    }
   ],
   "source": [
    "def plot_confusion_matrix(cm, classes,\n",
    "                          normalize=False,\n",
    "                          title='Confusion matrix',\n",
    "                          cmap=plt.cm.Blues):\n",
    "    \"\"\"\n",
    "    This function prints and plots the confusion matrix.\n",
    "    Normalization can be applied by setting `normalize=True`.\n",
    "    \"\"\"\n",
    "    if normalize:\n",
    "        cm = cm.astype('float') / cm.sum(axis=1)[:, np.newaxis]\n",
    "        print(\"Normalized confusion matrix\")\n",
    "    else:\n",
    "        print('Confusion matrix, without normalization')\n",
    "\n",
    "    print(cm)\n",
    "\n",
    "    plt.imshow(cm, interpolation='nearest', cmap=cmap)\n",
    "    plt.title(title)\n",
    "    plt.colorbar()\n",
    "    tick_marks = np.arange(len(classes))\n",
    "    plt.xticks(tick_marks, classes, rotation=45)\n",
    "    plt.yticks(tick_marks, classes)\n",
    "\n",
    "    fmt = '.2f' if normalize else 'd'\n",
    "    thresh = cm.max() / 2.\n",
    "    for i, j in itertools.product(range(cm.shape[0]), range(cm.shape[1])):\n",
    "        plt.text(j, i, format(cm[i, j], fmt),\n",
    "                 horizontalalignment=\"center\",\n",
    "                 color=\"white\" if cm[i, j] > thresh else \"black\")\n",
    "\n",
    "    plt.ylabel('True label')\n",
    "    plt.xlabel('Predicted label')\n",
    "    plt.tight_layout()\n",
    "\n",
    "cnf_matrix = confusion_matrix(test_ys, pred)\n",
    "plt.figure()\n",
    "plot_confusion_matrix(cnf_matrix, classes=['white', 'black', 'draw'], normalize=True)"
   ]
  },
  {
   "cell_type": "code",
   "execution_count": 54,
   "metadata": {},
   "outputs": [
    {
     "name": "stdout",
     "output_type": "stream",
     "text": [
      "1274 1219 1311\n",
      "1440 1054 1310\n"
     ]
    }
   ],
   "source": [
    "print(pred.tolist().count('0\\n'), pred.tolist().count('1\\n'), pred.tolist().count('2\\n'))\n",
    "print(test_ys.tolist().count('0\\n'), test_ys.tolist().count('1\\n'), test_ys.tolist().count('2\\n'))"
   ]
  },
  {
   "cell_type": "code",
   "execution_count": 55,
   "metadata": {},
   "outputs": [
    {
     "data": {
      "text/plain": [
       "array([0.00612645, 0.005769  , 0.00746755, 0.00715184, 0.00824136,\n",
       "       0.01178452, 0.00822961, 0.00660453, 0.00948535, 0.01257757,\n",
       "       0.00896756, 0.00987273, 0.01216293, 0.01430373, 0.01482138,\n",
       "       0.01058148, 0.00921002, 0.0101941 , 0.01176704, 0.0121737 ,\n",
       "       0.01413567, 0.01451436, 0.01214963, 0.01192529, 0.01107174,\n",
       "       0.01052104, 0.01158245, 0.01379139, 0.01366072, 0.01171096,\n",
       "       0.01393145, 0.01057307, 0.01006842, 0.01022003, 0.01143888,\n",
       "       0.01217052, 0.01556694, 0.01181408, 0.01022694, 0.01172998,\n",
       "       0.00982466, 0.01071498, 0.01097803, 0.00953273, 0.01313679,\n",
       "       0.01201911, 0.01269691, 0.01304768, 0.01013806, 0.01039868,\n",
       "       0.00992592, 0.00847552, 0.01043725, 0.01392408, 0.01340536,\n",
       "       0.01151968, 0.00575734, 0.00494149, 0.00640433, 0.00691763,\n",
       "       0.00611689, 0.00972913, 0.00988242, 0.00631869, 0.00842787,\n",
       "       0.00929461, 0.01398295, 0.01396684, 0.01951581, 0.02081928,\n",
       "       0.03949018, 0.03761502, 0.15025752, 0.00464715, 0.00544343])"
      ]
     },
     "execution_count": 55,
     "metadata": {},
     "output_type": "execute_result"
    }
   ],
   "source": [
    "clf.feature_importances_"
   ]
  },
  {
   "cell_type": "markdown",
   "metadata": {},
   "source": [
    "***Try Gradient Boosters (Best Accuracy: 72%)***"
   ]
  },
  {
   "cell_type": "code",
   "execution_count": 36,
   "metadata": {},
   "outputs": [
    {
     "data": {
      "text/plain": [
       "GradientBoostingClassifier(criterion='friedman_mse', init=None,\n",
       "              learning_rate=0.1, loss='deviance', max_depth=2,\n",
       "              max_features=None, max_leaf_nodes=None,\n",
       "              min_impurity_decrease=0.0, min_impurity_split=None,\n",
       "              min_samples_leaf=1, min_samples_split=2,\n",
       "              min_weight_fraction_leaf=0.0, n_estimators=1000,\n",
       "              n_iter_no_change=None, presort='auto', random_state=None,\n",
       "              subsample=1.0, tol=0.0001, validation_fraction=0.1,\n",
       "              verbose=0, warm_start=False)"
      ]
     },
     "execution_count": 36,
     "metadata": {},
     "output_type": "execute_result"
    }
   ],
   "source": [
    "clf2 = GradientBoostingClassifier(n_estimators = 1000, max_depth = 2)\n",
    "clf2.fit(train_xs, train_ys)"
   ]
  },
  {
   "cell_type": "code",
   "execution_count": 37,
   "metadata": {},
   "outputs": [
    {
     "name": "stdout",
     "output_type": "stream",
     "text": [
      "Out of a total of 3804 samples, 2731 were correct\n"
     ]
    }
   ],
   "source": [
    "pred2 = clf2.predict(test_xs)\n",
    "total = test_ys.shape[0]\n",
    "correct = len([x for x in pred2==test_ys if x==True])\n",
    "print(\"Out of a total of %d samples, %d were correct\" %(total, correct))"
   ]
  },
  {
   "cell_type": "code",
   "execution_count": 38,
   "metadata": {},
   "outputs": [
    {
     "name": "stdout",
     "output_type": "stream",
     "text": [
      "1280 1201 1323\n"
     ]
    }
   ],
   "source": [
    "print(pred2.tolist().count('0\\n'), pred2.tolist().count('1\\n'), pred2.tolist().count('2\\n')) #white wins, black wins, draws"
   ]
  },
  {
   "cell_type": "code",
   "execution_count": 39,
   "metadata": {},
   "outputs": [
    {
     "data": {
      "text/plain": [
       "array([0.00529058, 0.00715654, 0.00898489, 0.00766315, 0.0143531 ,\n",
       "       0.01992816, 0.00498996, 0.00842897, 0.00607728, 0.01137959,\n",
       "       0.00779629, 0.0080015 , 0.00977079, 0.00760798, 0.01096505,\n",
       "       0.00371708, 0.00465379, 0.00555733, 0.00545691, 0.00776679,\n",
       "       0.0090962 , 0.01361296, 0.00605664, 0.01108283, 0.00919246,\n",
       "       0.01004243, 0.00783399, 0.00646281, 0.00458865, 0.00298403,\n",
       "       0.00966631, 0.00723457, 0.00556381, 0.00578448, 0.00787219,\n",
       "       0.00499614, 0.01139018, 0.00332243, 0.00602629, 0.0072007 ,\n",
       "       0.01150191, 0.00541667, 0.00747311, 0.00714779, 0.01285403,\n",
       "       0.00709692, 0.00601588, 0.01128356, 0.00642001, 0.00695934,\n",
       "       0.01002372, 0.00915949, 0.01398047, 0.01035573, 0.00618836,\n",
       "       0.00881227, 0.00378904, 0.00326467, 0.00555569, 0.00641957,\n",
       "       0.00319319, 0.00883808, 0.01099997, 0.0076455 , 0.00179582,\n",
       "       0.01446413, 0.01255089, 0.00886381, 0.00917219, 0.01430635,\n",
       "       0.04454019, 0.0384387 , 0.33371993, 0.00587243, 0.01032477])"
      ]
     },
     "execution_count": 39,
     "metadata": {},
     "output_type": "execute_result"
    }
   ],
   "source": [
    "clf2.feature_importances_"
   ]
  },
  {
   "cell_type": "code",
   "execution_count": 56,
   "metadata": {},
   "outputs": [],
   "source": [
    "def predict_result(fen, classifier = clf):\n",
    "    global les\n",
    "    \n",
    "    line_features = []\n",
    "    position = fen[:fen.index(' ')]\n",
    "    \n",
    "    #Split the position into individual squares\n",
    "    rows = position.split('/')\n",
    "    expanded_position = []\n",
    "    for row in rows:\n",
    "        expanded_row = ''\n",
    "        for char in row:\n",
    "            if char.isdigit():\n",
    "                for i in range(int(char)):\n",
    "                    expanded_row += ' '\n",
    "            else:\n",
    "                expanded_row += char\n",
    "        expanded_row = [char for char in expanded_row]\n",
    "        expanded_position += expanded_row\n",
    "    line_features += expanded_position\n",
    "    \n",
    "    #Count number of each type of piece\n",
    "    qs = position.count('q')\n",
    "    Qs = position.count('Q')\n",
    "    rs = position.count('r')\n",
    "    Rs = position.count('R')\n",
    "    pieces = position.count('b')+position.count('n')\n",
    "    Pieces = position.count('B')+position.count('N')\n",
    "    pawns = position.count('p')\n",
    "    Pawns = position.count('P')\n",
    "    developed_pawns = expanded_position[48:].count('p')\n",
    "    Developed_Pawns = expanded_position[:16].count('P')\n",
    "    \n",
    "    line_features.append(qs)\n",
    "    line_features.append(Qs)\n",
    "    line_features.append(rs)\n",
    "    line_features.append(Rs)\n",
    "    line_features.append(pieces)\n",
    "    line_features.append(Pieces)\n",
    "    line_features.append(pawns)\n",
    "    line_features.append(Pawns)\n",
    "    line_features.append(9*(Qs-qs)+5*(Rs-rs)+3*(Pieces-pieces)+(Pawns-pawns)) #material advantage\n",
    "    line_features.append(developed_pawns)\n",
    "    line_features.append(Developed_Pawns)\n",
    "    \n",
    "    #Convert to numeric\n",
    "    transformed = []\n",
    "    for i in range(64):\n",
    "        transformed.append(les[i].transform([line_features[i]]))\n",
    "    transformed += line_features[64:]\n",
    "    transformed = np.array(transformed)\n",
    "    transformed = transformed.reshape(1, -1)\n",
    "    \n",
    "    #Predict\n",
    "    pred = classifier.predict(transformed)\n",
    "    \n",
    "    #Print prediction\n",
    "    if pred == '0\\n':\n",
    "        print(\"White is predicted to win\")\n",
    "    elif pred == '1\\n':\n",
    "        print(\"Black is predicted to win\")\n",
    "    else:\n",
    "        print(\"The predicted result is a draw\")\n",
    "    \n",
    "    #get \"score\" (expected points earned by white where win = 1 point and draw = 0.5 points)\n",
    "    probabilities = classifier.predict_proba(transformed)\n",
    "    score = probabilities[0][0] + 0.5*probabilities[0][2]\n",
    "    print(\"Score: \", score) #a score of > 0.5 favours white. < 0.5 favours black\n"
   ]
  },
  {
   "cell_type": "code",
   "execution_count": 86,
   "metadata": {},
   "outputs": [
    {
     "name": "stdout",
     "output_type": "stream",
     "text": [
      "Black is predicted to win\n",
      "Score:  0.23\n"
     ]
    }
   ],
   "source": [
    "predict_result(\"4b3/8/2P5/N7/3p1p2/3Pk3/pK6/8 b - - 0 70\")"
   ]
  },
  {
   "cell_type": "code",
   "execution_count": null,
   "metadata": {},
   "outputs": [],
   "source": []
  },
  {
   "cell_type": "code",
   "execution_count": null,
   "metadata": {},
   "outputs": [],
   "source": []
  }
 ],
 "metadata": {
  "kernelspec": {
   "display_name": "Python 3",
   "language": "python",
   "name": "python3"
  },
  "language_info": {
   "codemirror_mode": {
    "name": "ipython",
    "version": 3
   },
   "file_extension": ".py",
   "mimetype": "text/x-python",
   "name": "python",
   "nbconvert_exporter": "python",
   "pygments_lexer": "ipython3",
   "version": "3.5.2"
  }
 },
 "nbformat": 4,
 "nbformat_minor": 2
}
